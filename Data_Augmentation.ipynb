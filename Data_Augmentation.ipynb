{
  "nbformat": 4,
  "nbformat_minor": 0,
  "metadata": {
    "colab": {
      "provenance": [],
      "collapsed_sections": [],
      "authorship_tag": "ABX9TyODie9z+PYo2s3/j6tsk8fT",
      "include_colab_link": true
    },
    "kernelspec": {
      "name": "python3",
      "display_name": "Python 3"
    },
    "language_info": {
      "name": "python"
    },
    "accelerator": "GPU"
  },
  "cells": [
    {
      "cell_type": "markdown",
      "metadata": {
        "id": "view-in-github",
        "colab_type": "text"
      },
      "source": [
        "<a href=\"https://colab.research.google.com/github/Bhandari007/convolutional_neural_network/blob/main/Data_Augmentation.ipynb\" target=\"_parent\"><img src=\"https://colab.research.google.com/assets/colab-badge.svg\" alt=\"Open In Colab\"/></a>"
      ]
    },
    {
      "cell_type": "markdown",
      "source": [
        "# Data Augmentation\n",
        "\n",
        "Having a high training accuracy does not automatically mean having a good predictive model. It can still perform poorly on new data because it has overfit to the training set. In this notebook, we will se how to avoid that using, *data augmentation*. This increases the amount of training data by modifying the existing training data's properties. For example, in image data, we can apply different preprocessing techniques such as rotate, flip, shear or zoom on our existing images so we can simulate other data that the model should also learn from. This way, the model would see more variety in the images training so it woll infer better on new, previously unseen data.\n",
        "\n",
        "\n",
        "# Baseline Peformance\n",
        "\n",
        "We will start with a model that's very effective at learning `Cats vs Dogs` without data augmentation. It's similar to the previous models that we have used."
      ],
      "metadata": {
        "id": "kGb7rtaVgkXY"
      }
    },
    {
      "cell_type": "code",
      "source": [
        "!wget https://storage.googleapis.com/tensorflow-1-public/course2/cats_and_dogs_filtered.zip"
      ],
      "metadata": {
        "colab": {
          "base_uri": "https://localhost:8080/"
        },
        "id": "MpA69YR7jBLF",
        "outputId": "6b681746-142a-4384-b862-2663e6ec9134"
      },
      "execution_count": null,
      "outputs": [
        {
          "output_type": "stream",
          "name": "stdout",
          "text": [
            "--2022-10-19 04:44:19--  https://storage.googleapis.com/tensorflow-1-public/course2/cats_and_dogs_filtered.zip\n",
            "Resolving storage.googleapis.com (storage.googleapis.com)... 142.250.4.128, 74.125.24.128, 172.217.194.128, ...\n",
            "Connecting to storage.googleapis.com (storage.googleapis.com)|142.250.4.128|:443... connected.\n",
            "HTTP request sent, awaiting response... 200 OK\n",
            "Length: 68606236 (65M) [application/zip]\n",
            "Saving to: ‘cats_and_dogs_filtered.zip’\n",
            "\n",
            "cats_and_dogs_filte 100%[===================>]  65.43M   314MB/s    in 0.2s    \n",
            "\n",
            "2022-10-19 04:44:20 (314 MB/s) - ‘cats_and_dogs_filtered.zip’ saved [68606236/68606236]\n",
            "\n"
          ]
        }
      ]
    },
    {
      "cell_type": "code",
      "source": [
        "import os\n",
        "import zipfile\n",
        "\n",
        "# Extract the archive\n",
        "zip_ref = zipfile.ZipFile(\"./cats_and_dogs_filtered.zip\", 'r')\n",
        "zip_ref.extractall(\"tmp/\")\n",
        "zip_ref.close()\n",
        "\n",
        "# Assign training and validation set directories\n",
        "base_dir = 'tmp/cats_and_dogs_filtered'\n",
        "train_dir = os.path.join(base_dir, 'train')\n",
        "validation_dir = os.path.join(base_dir, 'validation')\n",
        "\n",
        "# Directory with training cat pictures\n",
        "train_cats_dir = os.path.join(train_dir, 'cats')\n",
        "\n",
        "# Directory with training dog pictures\n",
        "train_dogs_dir = os.path.join(train_dir, 'dogs')\n",
        "\n",
        "# Directory with validation cat pictures\n",
        "validation_cats_dir = os.path.join(validation_dir, 'cats')\n",
        "\n",
        "# Directory with validation dog pictures\n",
        "validation_dogs_dir = os.path.join(validation_dir, 'dogs')"
      ],
      "metadata": {
        "id": "hITRyCVfjdaD"
      },
      "execution_count": null,
      "outputs": []
    },
    {
      "cell_type": "code",
      "source": [
        "import tensorflow as tf\n",
        "from tensorflow.keras.optimizers import RMSprop\n",
        "\n",
        "def create_model():\n",
        "  '''Creates a CNN with 4 convolutional layers'''\n",
        "  model = tf.keras.models.Sequential([\n",
        "      tf.keras.layers.Conv2D(32, (3,3), activation='relu', input_shape=(150, 150, 3)),\n",
        "      tf.keras.layers.MaxPooling2D(2, 2),\n",
        "      tf.keras.layers.Conv2D(64, (3,3), activation='relu'),\n",
        "      tf.keras.layers.MaxPooling2D(2,2),\n",
        "      tf.keras.layers.Conv2D(128, (3,3), activation='relu'),\n",
        "      tf.keras.layers.MaxPooling2D(2,2),\n",
        "      tf.keras.layers.Conv2D(128, (3,3), activation='relu'),\n",
        "      tf.keras.layers.MaxPooling2D(2,2),\n",
        "      tf.keras.layers.Flatten(),\n",
        "      tf.keras.layers.Dense(512, activation='relu'),\n",
        "      tf.keras.layers.Dense(1, activation='sigmoid')\n",
        "  ])\n",
        "\n",
        "  model.compile(loss='binary_crossentropy',\n",
        "                optimizer=RMSprop(learning_rate=1e-4),\n",
        "                metrics=['accuracy'])\n",
        "  \n",
        "  return model"
      ],
      "metadata": {
        "id": "xxssHIo3jfiC"
      },
      "execution_count": null,
      "outputs": []
    },
    {
      "cell_type": "code",
      "source": [
        "from tensorflow.keras.preprocessing.image import ImageDataGenerator\n",
        "\n",
        "# All images will be rescaled by 1./255\n",
        "train_datagen = ImageDataGenerator(rescale=1./255)\n",
        "test_datagen = ImageDataGenerator(rescale=1./255)\n",
        "\n",
        "# Flow training images in batches of 20 using train_datagen generator\n",
        "train_generator = train_datagen.flow_from_directory(\n",
        "        train_dir,  # This is the source directory for training images\n",
        "        target_size=(150, 150),  # All images will be resized to 150x150\n",
        "        batch_size=20,\n",
        "        # Since we use binary_crossentropy loss, we need binary labels\n",
        "        class_mode='binary')\n",
        "\n",
        "# Flow validation images in batches of 20 using test_datagen generator\n",
        "validation_generator = test_datagen.flow_from_directory(\n",
        "        validation_dir,\n",
        "        target_size=(150, 150),\n",
        "        batch_size=20,\n",
        "        class_mode='binary')"
      ],
      "metadata": {
        "colab": {
          "base_uri": "https://localhost:8080/"
        },
        "id": "KLP3o304jr8O",
        "outputId": "7029c410-946e-4f70-c41a-775a20c7838e"
      },
      "execution_count": null,
      "outputs": [
        {
          "output_type": "stream",
          "name": "stdout",
          "text": [
            "Found 2000 images belonging to 2 classes.\n",
            "Found 1000 images belonging to 2 classes.\n"
          ]
        }
      ]
    },
    {
      "cell_type": "code",
      "source": [
        "# Constant for epochs\n",
        "EPOCHS = 20\n",
        "\n",
        "# Create a new model\n",
        "model = create_model()\n",
        "\n",
        "# Train the model\n",
        "history = model.fit(\n",
        "      train_generator,\n",
        "      steps_per_epoch=100,  # 2000 images = batch_size * steps\n",
        "      epochs=EPOCHS,\n",
        "      validation_data=validation_generator,\n",
        "      validation_steps=50,  # 1000 images = batch_size * steps\n",
        "      verbose=2)"
      ],
      "metadata": {
        "colab": {
          "base_uri": "https://localhost:8080/"
        },
        "id": "2nxkjWc3juKm",
        "outputId": "ddcc1a0d-8171-4568-c43e-59002ab6e393"
      },
      "execution_count": null,
      "outputs": [
        {
          "output_type": "stream",
          "name": "stdout",
          "text": [
            "Epoch 1/20\n",
            "100/100 - 18s - loss: 0.6904 - accuracy: 0.5250 - val_loss: 0.6682 - val_accuracy: 0.6500 - 18s/epoch - 184ms/step\n",
            "Epoch 2/20\n",
            "100/100 - 9s - loss: 0.6518 - accuracy: 0.6165 - val_loss: 0.6649 - val_accuracy: 0.5710 - 9s/epoch - 89ms/step\n",
            "Epoch 3/20\n",
            "100/100 - 9s - loss: 0.6002 - accuracy: 0.6725 - val_loss: 0.5875 - val_accuracy: 0.7030 - 9s/epoch - 88ms/step\n",
            "Epoch 4/20\n",
            "100/100 - 9s - loss: 0.5569 - accuracy: 0.7135 - val_loss: 0.5827 - val_accuracy: 0.7060 - 9s/epoch - 89ms/step\n",
            "Epoch 5/20\n",
            "100/100 - 9s - loss: 0.5140 - accuracy: 0.7490 - val_loss: 0.5652 - val_accuracy: 0.7050 - 9s/epoch - 89ms/step\n",
            "Epoch 6/20\n",
            "100/100 - 10s - loss: 0.4863 - accuracy: 0.7690 - val_loss: 0.5892 - val_accuracy: 0.6770 - 10s/epoch - 99ms/step\n",
            "Epoch 7/20\n",
            "100/100 - 9s - loss: 0.4592 - accuracy: 0.7835 - val_loss: 0.5456 - val_accuracy: 0.7330 - 9s/epoch - 90ms/step\n",
            "Epoch 8/20\n",
            "100/100 - 9s - loss: 0.4332 - accuracy: 0.8005 - val_loss: 0.5487 - val_accuracy: 0.7380 - 9s/epoch - 89ms/step\n",
            "Epoch 9/20\n",
            "100/100 - 9s - loss: 0.3977 - accuracy: 0.8165 - val_loss: 0.5381 - val_accuracy: 0.7490 - 9s/epoch - 89ms/step\n",
            "Epoch 10/20\n",
            "100/100 - 9s - loss: 0.3728 - accuracy: 0.8355 - val_loss: 0.5542 - val_accuracy: 0.7300 - 9s/epoch - 90ms/step\n",
            "Epoch 11/20\n",
            "100/100 - 9s - loss: 0.3449 - accuracy: 0.8520 - val_loss: 0.6384 - val_accuracy: 0.7050 - 9s/epoch - 88ms/step\n",
            "Epoch 12/20\n",
            "100/100 - 9s - loss: 0.3263 - accuracy: 0.8590 - val_loss: 0.5690 - val_accuracy: 0.7410 - 9s/epoch - 87ms/step\n",
            "Epoch 13/20\n",
            "100/100 - 10s - loss: 0.2950 - accuracy: 0.8735 - val_loss: 0.5423 - val_accuracy: 0.7520 - 10s/epoch - 97ms/step\n",
            "Epoch 14/20\n",
            "100/100 - 9s - loss: 0.2695 - accuracy: 0.8855 - val_loss: 0.5586 - val_accuracy: 0.7500 - 9s/epoch - 90ms/step\n",
            "Epoch 15/20\n",
            "100/100 - 9s - loss: 0.2437 - accuracy: 0.9120 - val_loss: 0.5971 - val_accuracy: 0.7440 - 9s/epoch - 89ms/step\n",
            "Epoch 16/20\n",
            "100/100 - 9s - loss: 0.2184 - accuracy: 0.9170 - val_loss: 0.6364 - val_accuracy: 0.7320 - 9s/epoch - 88ms/step\n",
            "Epoch 17/20\n",
            "100/100 - 9s - loss: 0.2041 - accuracy: 0.9215 - val_loss: 0.6801 - val_accuracy: 0.7250 - 9s/epoch - 89ms/step\n",
            "Epoch 18/20\n",
            "100/100 - 9s - loss: 0.1771 - accuracy: 0.9385 - val_loss: 0.6091 - val_accuracy: 0.7510 - 9s/epoch - 90ms/step\n",
            "Epoch 19/20\n",
            "100/100 - 9s - loss: 0.1593 - accuracy: 0.9405 - val_loss: 0.6448 - val_accuracy: 0.7530 - 9s/epoch - 90ms/step\n",
            "Epoch 20/20\n",
            "100/100 - 9s - loss: 0.1431 - accuracy: 0.9455 - val_loss: 0.6408 - val_accuracy: 0.7450 - 9s/epoch - 92ms/step\n"
          ]
        }
      ]
    },
    {
      "cell_type": "code",
      "source": [
        "import matplotlib.pyplot as plt\n",
        "\n",
        "def plot_loss_acc(history):\n",
        "  '''Plots the training and validation loss and accuracy from a history object'''\n",
        "  acc = history.history['accuracy']\n",
        "  val_acc = history.history['val_accuracy']\n",
        "  loss = history.history['loss']\n",
        "  val_loss = history.history['val_loss']\n",
        "\n",
        "  epochs = range(len(acc))\n",
        "\n",
        "  plt.plot(epochs, acc, 'bo', label='Training accuracy')\n",
        "  plt.plot(epochs, val_acc, 'b', label='Validation accuracy')\n",
        "  plt.title('Training and validation accuracy')\n",
        "\n",
        "  plt.figure()\n",
        "\n",
        "  plt.plot(epochs, loss, 'bo', label='Training Loss')\n",
        "  plt.plot(epochs, val_loss, 'b', label='Validation Loss')\n",
        "  plt.title('Training and validation loss')\n",
        "  plt.legend()\n",
        "\n",
        "  plt.show()\n",
        "\n"
      ],
      "metadata": {
        "id": "qUYkt6y4jwP1"
      },
      "execution_count": null,
      "outputs": []
    },
    {
      "cell_type": "code",
      "source": [
        "# Plot training results\n",
        "plot_loss_acc(history)"
      ],
      "metadata": {
        "colab": {
          "base_uri": "https://localhost:8080/",
          "height": 545
        },
        "id": "zbSqW18pk6uU",
        "outputId": "d0855b14-30be-4f0c-a546-73bf07c7c79b"
      },
      "execution_count": null,
      "outputs": [
        {
          "output_type": "display_data",
          "data": {
            "text/plain": [
              "<Figure size 432x288 with 1 Axes>"
            ],
            "image/png": "[encoded data removed]"
          },
          "metadata": {
            "needs_background": "light"
          }
        },
        {
          "output_type": "display_data",
          "data": {
            "text/plain": [
              "<Figure size 432x288 with 1 Axes>"
            ],
            "image/png": "[encoded data removed]"
          },
          "metadata": {
            "needs_background": "light"
          }
        }
      ]
    },
    {
      "cell_type": "markdown",
      "source": [
        "From the results above, we see that the training accuracy is more than 90%, and the validation accuracy is in the 70-80% range. This is called overfitting.\n",
        "\n",
        "# Data augmentation\n",
        "\n",
        "One simple method to avoid overfitting is to augment the images a bit."
      ],
      "metadata": {
        "id": "qQQ78WnTk9G8"
      }
    },
    {
      "cell_type": "code",
      "source": [
        "# Create a new model\n",
        "model_for_aug = create_model()\n",
        "\n",
        "train_datagen = ImageDataGenerator(\n",
        "    rescale = 1./255,\n",
        "    rotation_range = 40,\n",
        "    width_shift_range = 0.2,\n",
        "    height_shift_range= 0.2,\n",
        "    shear_range = 0.2,\n",
        "    zoom_range = 0.2,\n",
        "    horizontal_flip = True,\n",
        "    fill_mode = \"nearest\"\n",
        ")\n",
        "\n",
        "test_datagen = ImageDataGenerator(rescale = 1./255)\n",
        "\n",
        "train_generator = train_datagen.flow_from_directory(\n",
        "    train_dir,\n",
        "    target_size = (150,150),\n",
        "    batch_size = 20,\n",
        "    class_mode = \"binary\"\n",
        ")\n",
        "\n",
        "validation_generator = test_datagen.flow_from_directory(\n",
        "    validation_dir,\n",
        "    target_size = (150,150),\n",
        "    batch_size = 20,\n",
        "    class_mode = \"binary\"\n",
        "\n",
        ")\n",
        "\n",
        "# Train the new model\n",
        "history_with_aug  = model_for_aug.fit(\n",
        "    train_generator,\n",
        "    steps_per_epoch =100,\n",
        "    epochs = EPOCHS,\n",
        "    validation_data = validation_generator,\n",
        "    validation_steps = 50,\n",
        "    verbose = 2\n",
        ")"
      ],
      "metadata": {
        "colab": {
          "base_uri": "https://localhost:8080/"
        },
        "id": "C3GFweFulWL2",
        "outputId": "1e7a94b2-a819-4754-afc2-06c596e1c389"
      },
      "execution_count": null,
      "outputs": [
        {
          "output_type": "stream",
          "name": "stdout",
          "text": [
            "Found 2000 images belonging to 2 classes.\n",
            "Found 1000 images belonging to 2 classes.\n",
            "Epoch 1/20\n",
            "100/100 - 18s - loss: 0.6943 - accuracy: 0.5085 - val_loss: 0.6846 - val_accuracy: 0.6030 - 18s/epoch - 184ms/step\n",
            "Epoch 2/20\n",
            "100/100 - 17s - loss: 0.6806 - accuracy: 0.5690 - val_loss: 0.6717 - val_accuracy: 0.5750 - 17s/epoch - 174ms/step\n",
            "Epoch 3/20\n",
            "100/100 - 17s - loss: 0.6686 - accuracy: 0.5990 - val_loss: 0.6338 - val_accuracy: 0.6410 - 17s/epoch - 174ms/step\n",
            "Epoch 4/20\n",
            "100/100 - 18s - loss: 0.6565 - accuracy: 0.6135 - val_loss: 0.6192 - val_accuracy: 0.6620 - 18s/epoch - 184ms/step\n",
            "Epoch 5/20\n",
            "100/100 - 18s - loss: 0.6444 - accuracy: 0.6315 - val_loss: 0.6079 - val_accuracy: 0.6830 - 18s/epoch - 179ms/step\n",
            "Epoch 6/20\n",
            "100/100 - 17s - loss: 0.6265 - accuracy: 0.6425 - val_loss: 0.5996 - val_accuracy: 0.6690 - 17s/epoch - 173ms/step\n",
            "Epoch 7/20\n",
            "100/100 - 20s - loss: 0.6208 - accuracy: 0.6625 - val_loss: 0.5793 - val_accuracy: 0.6910 - 20s/epoch - 198ms/step\n",
            "Epoch 8/20\n",
            "100/100 - 17s - loss: 0.6096 - accuracy: 0.6680 - val_loss: 0.5639 - val_accuracy: 0.7050 - 17s/epoch - 172ms/step\n",
            "Epoch 9/20\n",
            "100/100 - 17s - loss: 0.6009 - accuracy: 0.6825 - val_loss: 0.5485 - val_accuracy: 0.7090 - 17s/epoch - 173ms/step\n",
            "Epoch 10/20\n",
            "100/100 - 18s - loss: 0.6027 - accuracy: 0.6815 - val_loss: 0.5591 - val_accuracy: 0.6990 - 18s/epoch - 182ms/step\n",
            "Epoch 11/20\n",
            "100/100 - 17s - loss: 0.5830 - accuracy: 0.6800 - val_loss: 0.5480 - val_accuracy: 0.7090 - 17s/epoch - 173ms/step\n",
            "Epoch 12/20\n",
            "100/100 - 17s - loss: 0.5829 - accuracy: 0.6960 - val_loss: 0.5345 - val_accuracy: 0.7310 - 17s/epoch - 175ms/step\n",
            "Epoch 13/20\n",
            "100/100 - 17s - loss: 0.5669 - accuracy: 0.7125 - val_loss: 0.5206 - val_accuracy: 0.7180 - 17s/epoch - 173ms/step\n",
            "Epoch 14/20\n",
            "100/100 - 18s - loss: 0.5594 - accuracy: 0.7045 - val_loss: 0.5440 - val_accuracy: 0.7100 - 18s/epoch - 185ms/step\n",
            "Epoch 15/20\n",
            "100/100 - 17s - loss: 0.5601 - accuracy: 0.7105 - val_loss: 0.5218 - val_accuracy: 0.7240 - 17s/epoch - 174ms/step\n",
            "Epoch 16/20\n",
            "100/100 - 17s - loss: 0.5665 - accuracy: 0.7020 - val_loss: 0.5431 - val_accuracy: 0.7100 - 17s/epoch - 173ms/step\n",
            "Epoch 17/20\n",
            "100/100 - 17s - loss: 0.5443 - accuracy: 0.7090 - val_loss: 0.6566 - val_accuracy: 0.6550 - 17s/epoch - 174ms/step\n",
            "Epoch 18/20\n",
            "100/100 - 17s - loss: 0.5490 - accuracy: 0.7125 - val_loss: 0.5079 - val_accuracy: 0.7460 - 17s/epoch - 174ms/step\n",
            "Epoch 19/20\n",
            "100/100 - 17s - loss: 0.5470 - accuracy: 0.7185 - val_loss: 0.5215 - val_accuracy: 0.7300 - 17s/epoch - 174ms/step\n",
            "Epoch 20/20\n",
            "100/100 - 17s - loss: 0.5424 - accuracy: 0.7185 - val_loss: 0.5193 - val_accuracy: 0.7370 - 17s/epoch - 174ms/step\n"
          ]
        }
      ]
    },
    {
      "cell_type": "code",
      "source": [
        "# Plot the results of training with data augmentation\n",
        "plot_loss_acc(history_with_aug)"
      ],
      "metadata": {
        "colab": {
          "base_uri": "https://localhost:8080/",
          "height": 545
        },
        "id": "37O4z0BZm-NJ",
        "outputId": "116e0358-d6e3-497d-939b-abe8d5953c6a"
      },
      "execution_count": null,
      "outputs": [
        {
          "output_type": "display_data",
          "data": {
            "text/plain": [
              "<Figure size 432x288 with 1 Axes>"
            ],
            "image/png": "[encoded data removed]"
          },
          "metadata": {
            "needs_background": "light"
          }
        },
        {
          "output_type": "display_data",
          "data": {
            "text/plain": [
              "<Figure size 432x288 with 1 Axes>"
            ],
            "image/png": "[encoded data removed]"
          },
          "metadata": {
            "needs_background": "light"
          }
        }
      ]
    },
    {
      "cell_type": "code",
      "source": [],
      "metadata": {
        "id": "jY3VlDGBocG2"
      },
      "execution_count": null,
      "outputs": []
    }
  ]
}